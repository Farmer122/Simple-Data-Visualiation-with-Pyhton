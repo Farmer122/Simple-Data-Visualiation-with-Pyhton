{
 "cells": [
  {
   "cell_type": "code",
   "execution_count": 17,
   "id": "da746f1a",
   "metadata": {},
   "outputs": [],
   "source": [
    "import pandas as pd\n",
    "import numpy as np\n",
    "import matplotlib.pyplot as plt"
   ]
  },
  {
   "cell_type": "code",
   "execution_count": 3,
   "id": "683384a9",
   "metadata": {},
   "outputs": [],
   "source": [
    "insurance = pd.read_csv('/Users/jamallawal/Desktop/python-portfolio-project-starter-files/insurance.csv')"
   ]
  },
  {
   "cell_type": "code",
   "execution_count": 4,
   "id": "bfd47720",
   "metadata": {},
   "outputs": [
    {
     "name": "stdout",
     "output_type": "stream",
     "text": [
      "      age     sex     bmi  children smoker     region      charges\n",
      "0      19  female  27.900         0    yes  southwest  16884.92400\n",
      "1      18    male  33.770         1     no  southeast   1725.55230\n",
      "2      28    male  33.000         3     no  southeast   4449.46200\n",
      "3      33    male  22.705         0     no  northwest  21984.47061\n",
      "4      32    male  28.880         0     no  northwest   3866.85520\n",
      "...   ...     ...     ...       ...    ...        ...          ...\n",
      "1333   50    male  30.970         3     no  northwest  10600.54830\n",
      "1334   18  female  31.920         0     no  northeast   2205.98080\n",
      "1335   18  female  36.850         0     no  southeast   1629.83350\n",
      "1336   21  female  25.800         0     no  southwest   2007.94500\n",
      "1337   61  female  29.070         0    yes  northwest  29141.36030\n",
      "\n",
      "[1338 rows x 7 columns]\n"
     ]
    }
   ],
   "source": [
    "print(insurance)"
   ]
  },
  {
   "cell_type": "code",
   "execution_count": 21,
   "id": "2b5bcccb",
   "metadata": {},
   "outputs": [
    {
     "data": {
      "image/png": "[encoded data removed]",
      "text/plain": [
       "<Figure size 432x288 with 1 Axes>"
      ]
     },
     "metadata": {
      "needs_background": "light"
     },
     "output_type": "display_data"
    }
   ],
   "source": [
    "plt.scatter(insurance.bmi.head(100), insurance.charges.head(100))\n",
    "plt.ylabel('insurance charges')\n",
    "plt.xlabel('bmi')\n",
    "plt.show()#there seems to be a positive relationship between bmi and insurance charges"
   ]
  },
  {
   "cell_type": "code",
   "execution_count": 5,
   "id": "3005601e",
   "metadata": {},
   "outputs": [
    {
     "name": "stdout",
     "output_type": "stream",
     "text": [
      "0       27.900\n",
      "1       33.770\n",
      "2       33.000\n",
      "3       22.705\n",
      "4       28.880\n",
      "         ...  \n",
      "1333    30.970\n",
      "1334    31.920\n",
      "1335    36.850\n",
      "1336    25.800\n",
      "1337    29.070\n",
      "Name: bmi, Length: 1338, dtype: float64\n"
     ]
    }
   ],
   "source": [
    "bmis = insurance.bmi\n",
    "print(bmis)"
   ]
  },
  {
   "cell_type": "code",
   "execution_count": 23,
   "id": "f370768a",
   "metadata": {},
   "outputs": [
    {
     "name": "stdout",
     "output_type": "stream",
     "text": [
      "[27.9, 33.77, 33.0, 28.88, 33.44, 27.74, 29.83, 26.22, 26.29, 34.4, 39.82, 42.13, 30.78, 40.3, 35.3, 36.005, 32.4, 34.1, 31.92, 28.025, 27.72, 32.775, 36.3, 35.6, 26.315, 28.6, 28.31, 36.4, 32.965, 36.67, 39.9, 26.6, 36.63, 30.8, 37.05, 37.3, 38.665, 34.77, 35.2, 35.625, 33.63, 28.0, 34.43, 28.69, 36.955, 31.825, 31.68, 37.335, 27.36, 33.66, 28.9, 39.1, 26.315, 36.19, 28.5, 28.1, 32.01, 27.4, 34.01, 29.59, 35.53, 39.805, 32.965, 26.885, 38.285, 37.62, 41.23, 34.8, 31.16, 27.2, 27.74, 26.98, 39.49, 29.83, 34.77, 31.3, 37.62, 30.8, 38.28, 31.6, 30.115, 29.92, 27.5, 28.025, 28.4, 30.875, 27.94, 35.09, 33.63, 29.7, 30.8, 35.72, 32.205, 28.595, 49.06, 27.94, 27.17, 37.1, 28.975, 31.35, 33.915, 28.785, 28.3, 37.4, 34.7, 26.505, 35.9, 28.785, 28.05, 34.1, 31.9, 36.0, 32.49, 29.735, 28.69, 38.83, 30.495, 37.73, 37.43, 28.4, 29.7, 37.145, 39.52, 35.53, 27.83, 26.6, 36.85, 39.6, 29.8, 29.64, 28.215, 37.0, 33.155, 31.825, 41.47, 30.3, 34.8, 33.345, 37.7, 27.835, 29.2, 28.9, 33.155, 28.595, 38.28, 26.41, 30.69, 41.895, 29.92, 30.9, 32.2, 32.11, 31.57, 26.2, 26.6, 34.43, 30.59, 32.8, 28.6, 39.33, 32.11, 32.23, 36.08, 28.88, 26.4, 27.74, 31.8, 41.23, 33.0, 30.875, 28.5, 26.73, 30.9, 37.1, 26.6, 29.92, 33.7, 33.25, 30.8, 34.8, 33.88, 38.06, 41.91, 31.635, 36.195, 27.83, 27.5, 26.73, 38.39, 29.07, 38.06, 36.67, 26.8, 35.3, 27.74, 30.02, 38.06, 35.86, 28.975, 32.2, 34.21, 30.3, 31.825, 33.63, 40.15, 31.92, 26.84, 36.955, 38.06, 42.35, 32.395, 30.2, 29.37, 34.2, 37.05, 27.455, 27.55, 26.6, 31.79, 28.12, 40.565, 27.645, 32.395, 31.2, 26.62, 48.07, 26.22, 36.765, 26.4, 33.4, 29.64, 45.54, 28.82, 26.8, 27.7, 34.39, 28.88, 27.55, 37.51, 33.0, 38.0, 33.345, 27.5, 33.33, 34.865, 33.06, 26.6, 35.97, 35.86, 31.4, 33.25, 32.205, 32.775, 27.645, 37.335, 29.64, 30.8, 40.945, 27.2, 34.105, 36.48, 33.8, 36.7, 36.385, 27.36, 31.16, 28.785, 35.72, 34.5, 27.55, 32.3, 27.72, 27.6, 30.02, 27.55, 36.765, 41.47, 29.26, 35.75, 33.345, 29.92, 27.835, 27.7, 35.245, 38.28, 27.6, 43.89, 29.83, 41.91, 32.3, 30.5, 26.4, 30.78, 32.3, 32.015, 30.4, 33.155, 32.9, 33.33, 28.31, 40.15, 30.115, 31.46, 30.685, 33.0, 43.34, 34.4, 39.05, 30.21, 35.625, 37.43, 31.445, 31.35, 32.3, 34.4, 31.02, 38.17, 47.52, 32.965, 32.3, 38.38, 30.03, 35.15, 35.64, 34.1, 39.16, 26.98, 33.88, 35.86, 32.775, 30.59, 30.2, 27.265, 29.165, 30.4, 33.1, 26.9, 30.5, 28.595, 33.11, 31.73, 28.9, 46.75, 29.45, 32.68, 33.5, 43.01, 36.52, 26.695, 33.1, 29.64, 29.6, 38.6, 29.6, 29.735, 46.53, 37.4, 30.14, 30.495, 39.6, 33.0, 36.63, 30.0, 38.095, 28.38, 28.7, 33.82, 32.67, 30.115, 29.8, 33.345, 28.31, 28.5, 35.625, 36.85, 32.56, 41.325, 37.51, 31.35, 39.5, 34.3, 31.065, 28.7, 38.06, 31.16, 32.9, 43.4, 27.93, 28.7, 39.2, 34.4, 26.03, 30.25, 28.93, 30.875, 31.35, 28.7, 32.11, 33.66, 30.4, 28.3, 35.7, 35.31, 30.495, 31.0, 30.875, 27.36, 44.22, 33.915, 37.73, 26.07, 33.88, 30.59, 39.425, 42.13, 31.73, 29.7, 36.19, 40.48, 28.025, 38.9, 30.2, 28.05, 31.35, 38.0, 31.79, 36.3, 47.41, 30.21, 35.435, 46.7, 28.595, 46.2, 30.8, 28.93, 31.73, 41.325, 33.44, 34.21, 34.105, 35.53, 32.68, 30.5, 44.77, 32.12, 30.495, 40.565, 30.59, 31.9, 40.565, 29.1, 37.29, 43.12, 36.86, 34.295, 27.17, 26.84, 38.095, 30.2, 30.59, 45.43, 28.27, 30.21, 35.91, 30.69, 29.0, 31.13, 40.26, 33.725, 29.48, 33.25, 32.6, 37.525, 39.16, 31.635, 39.05, 28.31, 34.1, 26.98, 37.8, 29.37, 34.8, 33.155, 33.0, 36.63, 28.595, 33.11, 37.1, 31.4, 34.1, 33.535, 28.785, 26.03, 28.88, 42.46, 38.0, 38.95, 36.1, 29.3, 35.53, 39.7, 38.19, 38.095, 26.41, 33.66, 42.4, 28.31, 33.915, 34.96, 35.31, 30.78, 26.22, 28.5, 32.965, 42.68, 39.6, 31.13, 36.3, 35.2, 42.4, 33.155, 35.91, 28.785, 46.53, 31.54, 33.66, 38.06, 28.7, 32.775, 32.015, 29.81, 31.57, 31.16, 29.7, 31.02, 43.89, 40.81, 31.35, 36.1, 35.3, 26.41, 26.125, 41.69, 31.13, 27.36, 36.2, 32.395, 34.8, 40.185, 32.3, 35.75, 33.725, 39.27, 34.87, 44.745, 41.47, 26.41, 29.545, 32.9, 38.06, 28.69, 30.495, 27.74, 35.2, 30.685, 40.47, 28.9, 36.67, 33.44, 40.66, 36.6, 37.4, 35.4, 27.075, 39.05, 28.405, 40.28, 36.08, 30.1, 27.265, 32.1, 34.77, 38.39, 31.73, 35.5, 29.15, 34.105, 26.62, 26.41, 30.115, 27.0, 36.0, 30.875, 26.4, 28.975, 37.905, 33.63, 27.645, 27.83, 37.43, 38.17, 34.58, 35.2, 27.1, 26.03, 31.825, 32.3, 29.0, 39.7, 36.1, 26.7, 36.48, 28.88, 34.2, 33.33, 32.3, 39.805, 34.32, 28.88, 41.14, 35.97, 27.6, 29.26, 27.7, 36.955, 36.86, 29.92, 41.8, 27.6, 31.92, 28.5, 44.22, 33.1, 26.18, 35.97, 42.24, 26.51, 35.815, 41.42, 36.575, 30.14, 30.8, 42.94, 34.43, 31.46, 37.1, 26.125, 35.53, 33.7, 31.13, 29.81, 31.825, 31.79, 28.025, 30.78, 33.1, 34.39, 33.82, 35.97, 31.5, 28.31, 31.35, 31.1, 32.78, 29.81, 30.495, 32.45, 34.2, 50.38, 32.775, 30.78, 32.3, 35.53, 29.6, 33.11, 32.23, 28.1, 47.6, 28.0, 33.535, 29.9, 37.29, 43.7, 36.2, 29.48, 30.1, 28.12, 27.1, 33.44, 28.8, 29.5, 34.8, 27.36, 37.05, 26.695, 28.93, 28.975, 30.02, 39.5, 33.63, 26.885, 29.04, 38.94, 32.11, 44.0, 40.26, 40.92, 27.265, 36.85, 35.1, 29.355, 32.585, 32.34, 39.8, 28.31, 31.73, 26.695, 27.5, 33.99, 26.885, 28.2, 34.21, 33.2, 31.0, 35.815, 32.11, 39.16, 34.21, 46.53, 32.5, 35.3, 37.18, 27.5, 29.735, 26.18, 29.48, 46.09, 40.185, 39.93, 35.8, 35.8, 34.2, 31.255, 29.7, 42.9, 28.405, 30.2, 27.835, 39.49, 30.8, 26.79, 34.96, 36.67, 39.615, 35.2, 36.765, 27.1, 34.32, 28.16, 40.5, 35.42, 40.15, 29.15, 39.995, 29.92, 30.59, 30.115, 30.115, 27.645, 34.675, 27.835, 31.6, 28.27, 34.1, 36.85, 36.29, 26.885, 32.7, 29.6, 31.73, 29.26, 28.215, 27.74, 33.33, 32.3, 27.6, 34.2, 35.815, 32.68, 37.0, 31.02, 36.08, 45.32, 34.6, 26.03, 31.6, 35.2, 27.93, 38.38, 37.07, 30.495, 28.88, 27.265, 28.025, 30.685, 35.245, 52.58, 30.9, 36.955, 26.41, 29.83, 29.8, 27.645, 28.9, 31.79, 39.49, 33.82, 32.01, 27.94, 41.14, 28.595, 37.29, 42.655, 31.9, 37.07, 31.445, 31.255, 28.88, 29.59, 32.0, 26.03, 31.68, 33.66, 27.835, 31.5, 30.495, 28.975, 31.54, 47.74, 36.19, 29.83, 32.7, 30.4, 33.7, 31.35, 34.96, 33.77, 30.875, 33.99, 28.6, 38.94, 36.08, 29.8, 31.24, 29.925, 26.22, 30.0, 32.3, 38.39, 26.315, 32.67, 29.64, 33.33, 35.75, 31.4, 38.17, 36.86, 32.395, 42.75, 29.9, 35.86, 32.8, 45.9, 40.28, 33.82, 28.12, 30.25, 32.49, 37.07, 32.6, 32.34, 32.3, 32.775, 32.8, 31.92, 34.1, 30.305, 36.48, 32.56, 35.815, 27.93, 44.88, 30.59, 41.1, 34.58, 42.13, 38.83, 28.215, 28.31, 26.125, 40.37, 35.2, 34.105, 27.36, 26.7, 41.91, 29.26, 32.11, 27.1, 27.4, 34.865, 29.81, 41.325, 29.925, 30.3, 27.36, 28.49, 35.625, 32.68, 28.0, 32.775, 32.395, 36.575, 27.93, 30.02, 33.55, 29.355, 40.375, 32.11, 32.3, 27.28, 34.8, 33.4, 37.1, 30.875, 34.1, 33.3, 31.255, 39.14, 37.29, 34.6, 30.21, 39.82, 37.18, 34.43, 30.305, 34.485, 27.83, 31.065, 28.215, 42.13, 41.8, 36.96, 33.11, 33.33, 29.4, 39.82, 33.63, 29.83, 27.3, 29.3, 27.72, 37.9, 36.385, 27.645, 37.715, 37.1, 28.05, 29.9, 33.345, 30.5, 31.065, 33.3, 27.5, 33.915, 34.485, 27.61, 27.06, 30.4, 29.735, 29.925, 26.79, 33.33, 27.645, 30.03, 36.3, 39.4, 34.32, 34.9, 26.125, 26.51, 27.455, 30.36, 30.875, 27.8, 27.72, 28.12, 30.2, 32.2, 26.315, 26.695, 42.9, 34.7, 28.31, 53.13, 39.71, 26.315, 31.065, 26.695, 38.83, 40.37, 33.535, 32.87, 30.03, 38.6, 33.4, 44.7, 30.97, 31.92, 36.85, 29.07]\n"
     ]
    }
   ],
   "source": [
    "obese = []\n",
    "for i in bmis:\n",
    "    if i > 26:\n",
    "        obese.append(i)\n",
    "    \n",
    "\n",
    "print(obese)"
   ]
  },
  {
   "cell_type": "code",
   "execution_count": 13,
   "id": "61917849",
   "metadata": {},
   "outputs": [],
   "source": [
    "obese_list = pd.DataFrame (obese, columns = ['obese bmi'])\n"
   ]
  },
  {
   "cell_type": "code",
   "execution_count": 14,
   "id": "43b292ac",
   "metadata": {},
   "outputs": [
    {
     "name": "stdout",
     "output_type": "stream",
     "text": [
      "      obese bmi\n",
      "0         27.90\n",
      "1         33.77\n",
      "2         33.00\n",
      "3         28.88\n",
      "4         33.44\n",
      "...         ...\n",
      "1016      44.70\n",
      "1017      30.97\n",
      "1018      31.92\n",
      "1019      36.85\n",
      "1020      29.07\n",
      "\n",
      "[1021 rows x 1 columns]\n"
     ]
    }
   ],
   "source": [
    "print(obese_list)"
   ]
  },
  {
   "cell_type": "code",
   "execution_count": 24,
   "id": "f6d2ba71",
   "metadata": {},
   "outputs": [
    {
     "name": "stdout",
     "output_type": "stream",
     "text": [
      "   obese bmi\n",
      "0      27.90\n",
      "1      33.77\n",
      "2      33.00\n",
      "3      28.88\n",
      "4      33.44\n"
     ]
    }
   ],
   "source": [
    "print(obese_list.head())"
   ]
  },
  {
   "cell_type": "code",
   "execution_count": null,
   "id": "05d87a6c",
   "metadata": {},
   "outputs": [],
   "source": []
  }
 ],
 "metadata": {
  "kernelspec": {
   "display_name": "Python 3",
   "language": "python",
   "name": "python3"
  },
  "language_info": {
   "codemirror_mode": {
    "name": "ipython",
    "version": 3
   },
   "file_extension": ".py",
   "mimetype": "text/x-python",
   "name": "python",
   "nbconvert_exporter": "python",
   "pygments_lexer": "ipython3",
   "version": "3.8.8"
  }
 },
 "nbformat": 4,
 "nbformat_minor": 5
}
